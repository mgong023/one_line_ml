{
 "cells": [
  {
   "cell_type": "code",
   "execution_count": null,
   "metadata": {
    "application/vnd.databricks.v1+cell": {
     "cellMetadata": {},
     "inputWidgets": {},
     "nuid": "8f432cab-c557-4d06-85c7-dc1919fe0d31",
     "showTitle": false,
     "title": ""
    }
   },
   "outputs": [],
   "source": [
    "from automl_baseline import *\n",
    "from ydata_profiling import ProfileReport\n",
    "import pandas as pd"
   ]
  },
  {
   "cell_type": "code",
   "execution_count": null,
   "metadata": {
    "application/vnd.databricks.v1+cell": {
     "cellMetadata": {},
     "inputWidgets": {},
     "nuid": "0e3cd02e-7918-484d-89ae-2a23bdab9230",
     "showTitle": false,
     "title": ""
    }
   },
   "outputs": [],
   "source": [
    "df = pd.read_csv('rotten_tomatoes.csv')"
   ]
  },
  {
   "cell_type": "markdown",
   "metadata": {
    "application/vnd.databricks.v1+cell": {
     "cellMetadata": {},
     "inputWidgets": {},
     "nuid": "0cb1451a-384a-49ea-a83e-30fc503a07c2",
     "showTitle": false,
     "title": ""
    }
   },
   "source": [
    "# One line EDA"
   ]
  },
  {
   "cell_type": "code",
   "execution_count": null,
   "metadata": {
    "application/vnd.databricks.v1+cell": {
     "cellMetadata": {},
     "inputWidgets": {},
     "nuid": "3d023fcf-44ed-4572-93d3-795bc7ba7598",
     "showTitle": false,
     "title": ""
    }
   },
   "outputs": [],
   "source": [
    "ProfileReport(df, title=\"Profiling Report\").to_file(\"report.html\")"
   ]
  },
  {
   "cell_type": "markdown",
   "metadata": {
    "application/vnd.databricks.v1+cell": {
     "cellMetadata": {},
     "inputWidgets": {},
     "nuid": "60c5713f-5ac1-4687-af79-256bf8243db3",
     "showTitle": false,
     "title": ""
    }
   },
   "source": [
    "# One line ML"
   ]
  },
  {
   "cell_type": "code",
   "execution_count": null,
   "metadata": {
    "application/vnd.databricks.v1+cell": {
     "cellMetadata": {},
     "inputWidgets": {},
     "nuid": "969a6b9f-7d09-4c30-9a03-ba2e6c32b427",
     "showTitle": false,
     "title": ""
    }
   },
   "outputs": [],
   "source": [
    "model, evaluation, results = one_line_model(\n",
    "    dataset_path='rotten_tomatoes.csv', \n",
    "    config_path='config.yaml',\n",
    "    test_dataset_path='rotten_tomatoes_test.csv'\n",
    ")"
   ]
  },
  {
   "cell_type": "code",
   "execution_count": null,
   "metadata": {
    "application/vnd.databricks.v1+cell": {
     "cellMetadata": {},
     "inputWidgets": {},
     "nuid": "3fa301c9-2862-40dc-a1bd-b59bdbca3cc0",
     "showTitle": false,
     "title": ""
    }
   },
   "outputs": [],
   "source": [
    "evaluation"
   ]
  },
  {
   "cell_type": "markdown",
   "metadata": {},
   "source": [
    "# Use model"
   ]
  },
  {
   "cell_type": "code",
   "execution_count": null,
   "metadata": {},
   "outputs": [],
   "source": [
    "# model = LudwigModel.load('results/api_experiment_run/model')\n",
    "predictions, _ = model.predict(dataset='rotten_tomatoes_test.csv')\n",
    "predictions"
   ]
  },
  {
   "cell_type": "code",
   "execution_count": null,
   "metadata": {},
   "outputs": [],
   "source": []
  }
 ],
 "metadata": {
  "application/vnd.databricks.v1+notebook": {
   "dashboards": [],
   "language": "python",
   "notebookMetadata": {
    "mostRecentlyExecutedCommandWithImplicitDF": {
     "commandId": 216519225080965,
     "dataframes": [
      "_sqldf"
     ]
    },
    "pythonIndentUnit": 4
   },
   "notebookName": "EDA_and_autoML",
   "notebookOrigID": 216519225080959,
   "widgets": {}
  },
  "kernelspec": {
   "display_name": ".venv",
   "language": "python",
   "name": "python3"
  },
  "language_info": {
   "codemirror_mode": {
    "name": "ipython",
    "version": 3
   },
   "file_extension": ".py",
   "mimetype": "text/x-python",
   "name": "python",
   "nbconvert_exporter": "python",
   "pygments_lexer": "ipython3",
   "version": "3.8.10"
  },
  "vscode": {
   "interpreter": {
    "hash": "5f334028bebb2de248292afa892f592b995926ce39de2490c48f7622f3dd0e5e"
   }
  }
 },
 "nbformat": 4,
 "nbformat_minor": 1
}
