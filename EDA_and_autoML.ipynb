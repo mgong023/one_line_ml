{
 "cells": [
  {
   "cell_type": "code",
   "execution_count": 12,
   "metadata": {
    "application/vnd.databricks.v1+cell": {
     "cellMetadata": {},
     "inputWidgets": {},
     "nuid": "8f432cab-c557-4d06-85c7-dc1919fe0d31",
     "showTitle": false,
     "title": ""
    }
   },
   "outputs": [],
   "source": [
    "from automl_baseline import *\n",
    "from ydata_profiling import ProfileReport\n",
    "import pandas as pd"
   ]
  },
  {
   "cell_type": "code",
   "execution_count": 3,
   "metadata": {
    "application/vnd.databricks.v1+cell": {
     "cellMetadata": {},
     "inputWidgets": {},
     "nuid": "0e3cd02e-7918-484d-89ae-2a23bdab9230",
     "showTitle": false,
     "title": ""
    }
   },
   "outputs": [],
   "source": [
    "df = pd.read_csv('rotten_tomatoes.csv')"
   ]
  },
  {
   "cell_type": "markdown",
   "metadata": {
    "application/vnd.databricks.v1+cell": {
     "cellMetadata": {},
     "inputWidgets": {},
     "nuid": "0cb1451a-384a-49ea-a83e-30fc503a07c2",
     "showTitle": false,
     "title": ""
    }
   },
   "source": [
    "# One line EDA"
   ]
  },
  {
   "cell_type": "code",
   "execution_count": null,
   "metadata": {
    "application/vnd.databricks.v1+cell": {
     "cellMetadata": {},
     "inputWidgets": {},
     "nuid": "3d023fcf-44ed-4572-93d3-795bc7ba7598",
     "showTitle": false,
     "title": ""
    }
   },
   "outputs": [],
   "source": [
    "ProfileReport(df, title=\"Profiling Report\").to_file(\"report.html\")"
   ]
  },
  {
   "cell_type": "markdown",
   "metadata": {
    "application/vnd.databricks.v1+cell": {
     "cellMetadata": {},
     "inputWidgets": {},
     "nuid": "60c5713f-5ac1-4687-af79-256bf8243db3",
     "showTitle": false,
     "title": ""
    }
   },
   "source": [
    "# One line ML"
   ]
  },
  {
   "cell_type": "code",
   "execution_count": 7,
   "metadata": {
    "application/vnd.databricks.v1+cell": {
     "cellMetadata": {},
     "inputWidgets": {},
     "nuid": "969a6b9f-7d09-4c30-9a03-ba2e6c32b427",
     "showTitle": false,
     "title": ""
    }
   },
   "outputs": [],
   "source": [
    "evaluation, results = one_line_model(\n",
    "    dataset_path='rotten_tomatoes.csv', \n",
    "    config_path='config.yaml',\n",
    "    test_dataset_path='rotten_tomatoes_test.csv',\n",
    ")"
   ]
  },
  {
   "cell_type": "code",
   "execution_count": 8,
   "metadata": {
    "application/vnd.databricks.v1+cell": {
     "cellMetadata": {},
     "inputWidgets": {},
     "nuid": "3fa301c9-2862-40dc-a1bd-b59bdbca3cc0",
     "showTitle": false,
     "title": ""
    }
   },
   "outputs": [
    {
     "data": {
      "text/plain": [
       "{'recommended': {'loss': 0.23893973231315613,\n",
       "  'roc_auc': 1.0,\n",
       "  'accuracy': 0.8999999761581421},\n",
       " 'combined': {'loss': 0.23893973231315613}}"
      ]
     },
     "execution_count": 8,
     "metadata": {},
     "output_type": "execute_result"
    }
   ],
   "source": [
    "evaluation"
   ]
  },
  {
   "cell_type": "markdown",
   "metadata": {},
   "source": [
    "# Use model"
   ]
  },
  {
   "cell_type": "code",
   "execution_count": 9,
   "metadata": {},
   "outputs": [
    {
     "data": {
      "text/html": [
       "<div>\n",
       "<style scoped>\n",
       "    .dataframe tbody tr th:only-of-type {\n",
       "        vertical-align: middle;\n",
       "    }\n",
       "\n",
       "    .dataframe tbody tr th {\n",
       "        vertical-align: top;\n",
       "    }\n",
       "\n",
       "    .dataframe thead th {\n",
       "        text-align: right;\n",
       "    }\n",
       "</style>\n",
       "<table border=\"1\" class=\"dataframe\">\n",
       "  <thead>\n",
       "    <tr style=\"text-align: right;\">\n",
       "      <th></th>\n",
       "      <th>recommended_probabilities</th>\n",
       "      <th>recommended_predictions</th>\n",
       "      <th>recommended_probabilities_False</th>\n",
       "      <th>recommended_probabilities_True</th>\n",
       "      <th>recommended_probability</th>\n",
       "    </tr>\n",
       "  </thead>\n",
       "  <tbody>\n",
       "    <tr>\n",
       "      <th>0</th>\n",
       "      <td>[0.3678804636001587, 0.6321195363998413]</td>\n",
       "      <td>True</td>\n",
       "      <td>0.367880</td>\n",
       "      <td>0.632120</td>\n",
       "      <td>0.632120</td>\n",
       "    </tr>\n",
       "    <tr>\n",
       "      <th>1</th>\n",
       "      <td>[0.4976044297218323, 0.5023955702781677]</td>\n",
       "      <td>True</td>\n",
       "      <td>0.497604</td>\n",
       "      <td>0.502396</td>\n",
       "      <td>0.502396</td>\n",
       "    </tr>\n",
       "    <tr>\n",
       "      <th>2</th>\n",
       "      <td>[0.06471097469329834, 0.9352890253067017]</td>\n",
       "      <td>True</td>\n",
       "      <td>0.064711</td>\n",
       "      <td>0.935289</td>\n",
       "      <td>0.935289</td>\n",
       "    </tr>\n",
       "    <tr>\n",
       "      <th>3</th>\n",
       "      <td>[0.0476226806640625, 0.9523773193359375]</td>\n",
       "      <td>True</td>\n",
       "      <td>0.047623</td>\n",
       "      <td>0.952377</td>\n",
       "      <td>0.952377</td>\n",
       "    </tr>\n",
       "    <tr>\n",
       "      <th>4</th>\n",
       "      <td>[0.8386911451816559, 0.16130885481834412]</td>\n",
       "      <td>False</td>\n",
       "      <td>0.838691</td>\n",
       "      <td>0.161309</td>\n",
       "      <td>0.838691</td>\n",
       "    </tr>\n",
       "    <tr>\n",
       "      <th>5</th>\n",
       "      <td>[0.04020339250564575, 0.9597966074943542]</td>\n",
       "      <td>True</td>\n",
       "      <td>0.040203</td>\n",
       "      <td>0.959797</td>\n",
       "      <td>0.959797</td>\n",
       "    </tr>\n",
       "    <tr>\n",
       "      <th>6</th>\n",
       "      <td>[0.006449997425079346, 0.9935500025749207]</td>\n",
       "      <td>True</td>\n",
       "      <td>0.006450</td>\n",
       "      <td>0.993550</td>\n",
       "      <td>0.993550</td>\n",
       "    </tr>\n",
       "    <tr>\n",
       "      <th>7</th>\n",
       "      <td>[0.03374570608139038, 0.9662542939186096]</td>\n",
       "      <td>True</td>\n",
       "      <td>0.033746</td>\n",
       "      <td>0.966254</td>\n",
       "      <td>0.966254</td>\n",
       "    </tr>\n",
       "    <tr>\n",
       "      <th>8</th>\n",
       "      <td>[0.5646753311157227, 0.43532466888427734]</td>\n",
       "      <td>False</td>\n",
       "      <td>0.564675</td>\n",
       "      <td>0.435325</td>\n",
       "      <td>0.564675</td>\n",
       "    </tr>\n",
       "    <tr>\n",
       "      <th>9</th>\n",
       "      <td>[0.7498915791511536, 0.25010842084884644]</td>\n",
       "      <td>False</td>\n",
       "      <td>0.749892</td>\n",
       "      <td>0.250108</td>\n",
       "      <td>0.749892</td>\n",
       "    </tr>\n",
       "  </tbody>\n",
       "</table>\n",
       "</div>"
      ],
      "text/plain": [
       "                    recommended_probabilities  recommended_predictions  \\\n",
       "0    [0.3678804636001587, 0.6321195363998413]                     True   \n",
       "1    [0.4976044297218323, 0.5023955702781677]                     True   \n",
       "2   [0.06471097469329834, 0.9352890253067017]                     True   \n",
       "3    [0.0476226806640625, 0.9523773193359375]                     True   \n",
       "4   [0.8386911451816559, 0.16130885481834412]                    False   \n",
       "5   [0.04020339250564575, 0.9597966074943542]                     True   \n",
       "6  [0.006449997425079346, 0.9935500025749207]                     True   \n",
       "7   [0.03374570608139038, 0.9662542939186096]                     True   \n",
       "8   [0.5646753311157227, 0.43532466888427734]                    False   \n",
       "9   [0.7498915791511536, 0.25010842084884644]                    False   \n",
       "\n",
       "   recommended_probabilities_False  recommended_probabilities_True  \\\n",
       "0                         0.367880                        0.632120   \n",
       "1                         0.497604                        0.502396   \n",
       "2                         0.064711                        0.935289   \n",
       "3                         0.047623                        0.952377   \n",
       "4                         0.838691                        0.161309   \n",
       "5                         0.040203                        0.959797   \n",
       "6                         0.006450                        0.993550   \n",
       "7                         0.033746                        0.966254   \n",
       "8                         0.564675                        0.435325   \n",
       "9                         0.749892                        0.250108   \n",
       "\n",
       "   recommended_probability  \n",
       "0                 0.632120  \n",
       "1                 0.502396  \n",
       "2                 0.935289  \n",
       "3                 0.952377  \n",
       "4                 0.838691  \n",
       "5                 0.959797  \n",
       "6                 0.993550  \n",
       "7                 0.966254  \n",
       "8                 0.564675  \n",
       "9                 0.749892  "
      ]
     },
     "execution_count": 9,
     "metadata": {},
     "output_type": "execute_result"
    }
   ],
   "source": [
    "model = LudwigModel.load('results/api_experiment_run/model')\n",
    "predictions, _ = model.predict(dataset='rotten_tomatoes_test.csv')\n",
    "predictions"
   ]
  }
 ],
 "metadata": {
  "application/vnd.databricks.v1+notebook": {
   "dashboards": [],
   "language": "python",
   "notebookMetadata": {
    "mostRecentlyExecutedCommandWithImplicitDF": {
     "commandId": 216519225080965,
     "dataframes": [
      "_sqldf"
     ]
    },
    "pythonIndentUnit": 4
   },
   "notebookName": "EDA_and_autoML",
   "notebookOrigID": 216519225080959,
   "widgets": {}
  },
  "kernelspec": {
   "display_name": ".venv",
   "language": "python",
   "name": "python3"
  },
  "language_info": {
   "codemirror_mode": {
    "name": "ipython",
    "version": 3
   },
   "file_extension": ".py",
   "mimetype": "text/x-python",
   "name": "python",
   "nbconvert_exporter": "python",
   "pygments_lexer": "ipython3",
   "version": "3.8.10"
  },
  "vscode": {
   "interpreter": {
    "hash": "5f334028bebb2de248292afa892f592b995926ce39de2490c48f7622f3dd0e5e"
   }
  }
 },
 "nbformat": 4,
 "nbformat_minor": 1
}
